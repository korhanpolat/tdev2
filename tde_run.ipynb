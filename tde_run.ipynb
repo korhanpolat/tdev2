{
 "cells": [
  {
   "cell_type": "code",
   "execution_count": 1,
   "metadata": {},
   "outputs": [],
   "source": [
    "%load_ext autoreload\n",
    "%autoreload 2"
   ]
  },
  {
   "cell_type": "code",
   "execution_count": 2,
   "metadata": {},
   "outputs": [],
   "source": [
    "import pkg_resources \n",
    "from tdev2.readers.gold_reader import *\n",
    "from tdev2.readers.disc_reader import *"
   ]
  },
  {
   "cell_type": "code",
   "execution_count": 3,
   "metadata": {},
   "outputs": [],
   "source": [
    "from tdev2.measures.ned import *\n",
    "from tdev2.measures.boundary import *\n",
    "from tdev2.measures.grouping import *\n",
    "from tdev2.measures.coverage import *\n",
    "from tdev2.measures.token_type import *"
   ]
  },
  {
   "cell_type": "code",
   "execution_count": 4,
   "metadata": {},
   "outputs": [],
   "source": [
    "def prf2dict(dct, measurename, obj):\n",
    "    # save precision-recall-f of tde objects to dictionary\n",
    "    dct[measurename + '_P'] = obj.precision\n",
    "    dct[measurename + '_R'] = obj.recall\n",
    "    dct[measurename + '_F'] = obj.fscore\n",
    "    \n",
    "    return dct\n",
    "\n",
    "\n",
    "def compute_scores(gold, disc, measures=[]):\n",
    "    scores = dict()\n",
    "    \n",
    "    # Launch evaluation of each metric\n",
    "    if len(measures) == 0 or \"boundary\" in measures:\n",
    "        print('Computing Boundary...')\n",
    "        boundary = Boundary(gold, disc)\n",
    "        boundary.compute_boundary()\n",
    "        scores = prf2dict(scores, 'boundary', boundary)\n",
    "        \n",
    "    if len(measures) == 0 or \"grouping\" in measures:\n",
    "        print('Computing Grouping...')\n",
    "        grouping = Grouping(disc)\n",
    "        grouping.compute_grouping()\n",
    "        scores = prf2dict(scores, 'grouping', grouping)    \n",
    "        \n",
    "    if len(measures) == 0 or \"token/type\" in measures:\n",
    "        print('Computing Token and Type...')\n",
    "        token_type = TokenType(gold, disc)\n",
    "        token_type.compute_token_type()\n",
    "        scores['token_P'],scores['token_R'],scores['token_F'] = token_type.precision[0], token_type.recall[0], token_type.fscore[0]\n",
    "        scores['type_P'],scores['type_R'],scores['type_F'] = token_type.precision[1], token_type.recall[1], token_type.fscore[1]        \n",
    "        \n",
    "    if len(measures) == 0 or \"coverage\" in measures:\n",
    "        print('Computing Coverage...')\n",
    "        coverage = Coverage(gold, disc)\n",
    "        coverage.compute_coverage()\n",
    "        scores['coverage'] = coverage.coverage\n",
    "\n",
    "        \n",
    "    if len(measures) == 0 or \"coverageNS\" in measures:\n",
    "        print('Computing Coverage No Single...')\n",
    "        coverage = Coverage_NoSingleton(gold, disc)\n",
    "        coverage.compute_coverage()\n",
    "        scores['coverageNS'] = coverage.coverage\n",
    "\n",
    "        \n",
    "    if len(measures) == 0 or \"ned\" in measures:\n",
    "        print('Computing NED...')\n",
    "        ned = Ned(disc)\n",
    "        ned.compute_ned()\n",
    "        scores['ned'] = ned.ned\n",
    "        \n",
    "        \n",
    "    \n",
    "    return scores"
   ]
  },
  {
   "cell_type": "code",
   "execution_count": 6,
   "metadata": {},
   "outputs": [
    {
     "name": "stdout",
     "output_type": "stream",
     "text": [
      "/home/korhan/Desktop/tez/sdtw_exps/sdtw_A0_c3right_PCA_Wh_w10_L10_ext0.2_dia0.7_dOlapFalse_euclidLoss_ecut3/postZR_cost0.015_olap0.95_dedup0.5_edw0_dtw0/results/master_graph.class\n"
     ]
    }
   ],
   "source": [
    "import sys\n",
    "sys.path.append('/home/korhan/Dropbox/tez_scripts/')\n",
    "from utils.tde_utils import zrexp2tde\n",
    "\n",
    "wrd_path = 'tdev2/share/phoenix.wrd'\n",
    "phn_path = 'tdev2/share/phoenix.phn'\n",
    "\n",
    "# exp_path = '/home/korhan/Desktop/zerospeech2017/track2/src/ZRTools/exp/'\n",
    "exp_path = '/home/korhan/Desktop/tez/sdtw_exps/sdtw_A0_c3right_PCA_Wh_w10_L10_ext0.2_dia0.7_dOlapFalse_euclidLoss_ecut3/postZR_cost0.015_olap0.95_dedup0.5_edw0_dtw0/'\n",
    "\n",
    "disc_clsfile = zrexp2tde(exp_path)\n",
    "\n",
    "print(disc_clsfile)"
   ]
  },
  {
   "cell_type": "code",
   "execution_count": 82,
   "metadata": {},
   "outputs": [
    {
     "name": "stdout",
     "output_type": "stream",
     "text": [
      "Discovered Class file read\n",
      "\n",
      "4986 unique intervals, 1956 clusters with 6717 nodes found\n"
     ]
    }
   ],
   "source": [
    "gold = Gold(wrd_path=wrd_path, phn_path=phn_path) \n",
    "disc = Disc(disc_clsfile, gold) \n",
    "\n"
   ]
  },
  {
   "cell_type": "code",
   "execution_count": 8,
   "metadata": {},
   "outputs": [
    {
     "data": {
      "text/plain": [
       "'/home/korhan/Desktop/tez/sdtw_exps/sdtw_A0_c3right_PCA_Wh_w10_L10_ext0.2_dia0.7_dOlapFalse_euclidLoss_ecut3/postZR_cost0.015_olap0.95_dedup0.5_edw0_dtw0/results/master_graph.class'"
      ]
     },
     "execution_count": 8,
     "metadata": {},
     "output_type": "execute_result"
    }
   ],
   "source": [
    "disc_clsfile"
   ]
  },
  {
   "cell_type": "code",
   "execution_count": 9,
   "metadata": {},
   "outputs": [
    {
     "name": "stdout",
     "output_type": "stream",
     "text": [
      "Computing Boundary...\n",
      "Computing Grouping...\n",
      "Number of grouping jobs: 1\n",
      "Computing Token and Type...\n",
      "Computing Coverage...\n",
      "Computing Coverage No Single...\n",
      "Computing NED...\n"
     ]
    },
    {
     "data": {
      "text/plain": [
       "{'boundary_P': 0.3973320628870891,\n",
       " 'boundary_R': 0.012563646771715224,\n",
       " 'boundary_F': 0.024297842843555052,\n",
       " 'grouping_P': 0.34531059683313,\n",
       " 'grouping_R': 0.49911971830985913,\n",
       " 'grouping_F': 0.4077245036845198,\n",
       " 'token_P': 0.07741676694745286,\n",
       " 'token_R': 0.006357991138343957,\n",
       " 'token_F': 0.011750917089060384,\n",
       " 'type_P': 0.27624309392265195,\n",
       " 'type_R': 0.16246953696181965,\n",
       " 'type_F': 0.20460358056265981,\n",
       " 'coverage': 0.02069920951837666,\n",
       " 'coverageNS': 0.02176615761444397,\n",
       " 'ned': 0.7784343626890328,\n",
       " 'n_clus': 1956,\n",
       " 'n_node': 4986}"
      ]
     },
     "execution_count": 9,
     "metadata": {},
     "output_type": "execute_result"
    }
   ],
   "source": [
    "scores = compute_scores(gold, disc)\n",
    "scores['n_clus'] = len(disc.clusters)\n",
    "scores['n_node'] = len(disc.intervals)\n",
    "scores"
   ]
  }
 ],
 "metadata": {
  "kernelspec": {
   "display_name": "TDE",
   "language": "python",
   "name": "tde"
  },
  "language_info": {
   "codemirror_mode": {
    "name": "ipython",
    "version": 3
   },
   "file_extension": ".py",
   "mimetype": "text/x-python",
   "name": "python",
   "nbconvert_exporter": "python",
   "pygments_lexer": "ipython3",
   "version": "3.8.2"
  }
 },
 "nbformat": 4,
 "nbformat_minor": 2
}
