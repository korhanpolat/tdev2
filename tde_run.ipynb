{
 "cells": [
  {
   "cell_type": "code",
   "execution_count": 1,
   "metadata": {},
   "outputs": [],
   "source": [
    "%load_ext autoreload\n",
    "%autoreload 2"
   ]
  },
  {
   "cell_type": "code",
   "execution_count": 2,
   "metadata": {},
   "outputs": [],
   "source": [
    "import pkg_resources \n",
    "from tdev2.readers.gold_reader import *\n",
    "from tdev2.readers.disc_reader import *"
   ]
  },
  {
   "cell_type": "code",
   "execution_count": 3,
   "metadata": {},
   "outputs": [],
   "source": [
    "from tdev2.measures.ned import *\n",
    "from tdev2.measures.boundary import *\n",
    "from tdev2.measures.grouping import *\n",
    "from tdev2.measures.coverage import *\n",
    "from tdev2.measures.token_type import *"
   ]
  },
  {
   "cell_type": "code",
   "execution_count": 4,
   "metadata": {},
   "outputs": [],
   "source": [
    "def prf2dict(dct, measurename, obj):\n",
    "    # save precision-recall-f of tde objects to dictionary\n",
    "    dct[measurename + '_P'] = obj.precision\n",
    "    dct[measurename + '_R'] = obj.recall\n",
    "    dct[measurename + '_F'] = obj.fscore\n",
    "    \n",
    "    return dct\n",
    "\n",
    "\n",
    "def compute_scores(gold, disc, measures=[]):\n",
    "    scores = dict()\n",
    "    \n",
    "    # Launch evaluation of each metric\n",
    "    if len(measures) == 0 or \"boundary\" in measures:\n",
    "        print('Computing Boundary...')\n",
    "        boundary = Boundary(gold, disc)\n",
    "        boundary.compute_boundary()\n",
    "        scores = prf2dict(scores, 'boundary', boundary)\n",
    "        \n",
    "    if len(measures) == 0 or \"grouping\" in measures:\n",
    "        print('Computing Grouping...')\n",
    "        grouping = Grouping(disc)\n",
    "        grouping.compute_grouping()\n",
    "        scores = prf2dict(scores, 'grouping', grouping)    \n",
    "        \n",
    "    if len(measures) == 0 or \"token/type\" in measures:\n",
    "        print('Computing Token and Type...')\n",
    "        token_type = TokenType(gold, disc)\n",
    "        token_type.compute_token_type()\n",
    "        scores['token_P'],scores['token_R'],scores['token_F'] = token_type.precision[0], token_type.recall[0], token_type.fscore[0]\n",
    "        scores['type_P'],scores['type_R'],scores['type_F'] = token_type.precision[1], token_type.recall[1], token_type.fscore[1]        \n",
    "        \n",
    "    if len(measures) == 0 or \"coverage\" in measures:\n",
    "        print('Computing Coverage...')\n",
    "        coverage = Coverage(gold, disc)\n",
    "        coverage.compute_coverage()\n",
    "        scores['coverage'] = coverage.coverage\n",
    "\n",
    "        \n",
    "    if len(measures) == 0 or \"coverageNS\" in measures:\n",
    "        print('Computing Coverage No Single...')\n",
    "        coverage = Coverage_NoSingleton(gold, disc)\n",
    "        coverage.compute_coverage()\n",
    "        scores['coverageNS'] = coverage.coverage\n",
    "\n",
    "        \n",
    "    if len(measures) == 0 or \"ned\" in measures:\n",
    "        print('Computing NED...')\n",
    "        ned = Ned(disc)\n",
    "        ned.compute_ned()\n",
    "        scores['ned'] = ned.ned\n",
    "        \n",
    "        \n",
    "    \n",
    "    return scores"
   ]
  },
  {
   "cell_type": "code",
   "execution_count": 11,
   "metadata": {},
   "outputs": [],
   "source": [
    "os.chdir('build/lib/')"
   ]
  },
  {
   "cell_type": "code",
   "execution_count": 18,
   "metadata": {},
   "outputs": [],
   "source": [
    "os.chdir('../../')"
   ]
  },
  {
   "cell_type": "code",
   "execution_count": 5,
   "metadata": {},
   "outputs": [
    {
     "name": "stdout",
     "output_type": "stream",
     "text": [
      "/home/korhan/Desktop/tez/sdtw_exps/sdtw_pairs_A_0_341_c3right_PCA_Wh_diag_olapFalse_w8_L2_extend_r0.3_diag_thr0.7_loss_funceuclid_end_cut0/postpairwise_cost0.001_olap0.25/master_graph.class\n"
     ]
    }
   ],
   "source": [
    "import sys\n",
    "sys.path.append('/home/korhan/Dropbox/tez_scripts/')\n",
    "from tdev2.utils import zrexp2tde, sdtw2tde, narrow_gold, read_config\n",
    "\n",
    "wrd_path = 'tdev2/share/phoenix.wrd'\n",
    "phn_path = 'tdev2/share/phoenix.phn'\n",
    "cnf_path = 'config.json'\n",
    "\n",
    "# read_config(cnf_path)\n",
    "\n",
    "# exp_path = '/home/korhan/Desktop/zerospeech2017/track2/src/ZRTools/exp/'\n",
    "exp_path = '/home/korhan/Desktop/tez/sdtw_exps/sdtw_pairs_A_0_341_c3right_PCA_Wh_diag_olapFalse_w8_L2_extend_r0.3_diag_thr0.7_loss_funceuclid_end_cut0/postpairwise_cost0.001_olap0.25/'\n",
    "\n",
    "disc_clsfile = sdtw2tde(exp_path)\n",
    "\n",
    "print(disc_clsfile)"
   ]
  },
  {
   "cell_type": "code",
   "execution_count": 6,
   "metadata": {},
   "outputs": [],
   "source": [
    "from tdev2.eval_sign import try_compute_scores"
   ]
  },
  {
   "cell_type": "code",
   "execution_count": 10,
   "metadata": {},
   "outputs": [],
   "source": [
    "kwargs = {'config_file' : 'config.json',\n",
    "         'njobs': 1}"
   ]
  },
  {
   "cell_type": "code",
   "execution_count": 14,
   "metadata": {},
   "outputs": [
    {
     "name": "stdout",
     "output_type": "stream",
     "text": [
      "Computing Boundary...\n",
      "Computing Grouping...\n",
      "Number of grouping jobs: 1\n",
      "Computing Token and Type...\n",
      "Computing Coverage...\n",
      "Computing Coverage...\n",
      "Computing Coverage No Single...\n",
      "*** Config file read, ovth 5.0 ***\n",
      "Computing NED...\n"
     ]
    },
    {
     "data": {
      "text/plain": [
       "{'boundary_P': 0.2656,\n",
       " 'boundary_R': 0.0003,\n",
       " 'boundary_F': 0.0005,\n",
       " 'n_clus': 39,\n",
       " 'n_node': 40,\n",
       " 'grouping_P': 1.0,\n",
       " 'grouping_R': 0.0952,\n",
       " 'grouping_F': 0.1738,\n",
       " 'token_P': 0.1389,\n",
       " 'token_R': 0.0001,\n",
       " 'token_F': 0.0002,\n",
       " 'type_P': 0.2143,\n",
       " 'type_R': 0.0024,\n",
       " 'type_F': 0.0048,\n",
       " 'coverage': 0.0002,\n",
       " 'coverageNS': 0.0002,\n",
       " 'coverageNS_f': 0.0001,\n",
       " 'ned': 1.0}"
      ]
     },
     "execution_count": 14,
     "metadata": {},
     "output_type": "execute_result"
    }
   ],
   "source": [
    "try_compute_scores(gold, disc, measures=[], **kwargs)"
   ]
  },
  {
   "cell_type": "code",
   "execution_count": 11,
   "metadata": {},
   "outputs": [
    {
     "name": "stdout",
     "output_type": "stream",
     "text": [
      "*** Config file read ***\n"
     ]
    }
   ],
   "source": [
    "# read_config(cnf_path)\n",
    "gold = Gold(wrd_path=wrd_path, phn_path=phn_path, **kwargs) \n",
    "disc = Disc(disc_clsfile, gold) \n"
   ]
  },
  {
   "cell_type": "code",
   "execution_count": 10,
   "metadata": {},
   "outputs": [
    {
     "data": {
      "text/plain": [
       "'/home/korhan/Desktop/tez/sdtw_exps/sdtw_pairs_A_0_341_c3right_PCA_Wh_diag_olapFalse_w8_L2_extend_r0.3_diag_thr0.7_loss_funceuclid_end_cut0/postpairwise_cost0.001_olap0.25/master_graph.class'"
      ]
     },
     "execution_count": 10,
     "metadata": {},
     "output_type": "execute_result"
    }
   ],
   "source": [
    "disc_clsfile"
   ]
  },
  {
   "cell_type": "code",
   "execution_count": 25,
   "metadata": {},
   "outputs": [
    {
     "name": "stdout",
     "output_type": "stream",
     "text": [
      "Computing Boundary...\n",
      "Computing Grouping...\n",
      "Number of grouping jobs: 1\n",
      "Computing Token and Type...\n",
      "Computing Coverage...\n",
      "Computing Coverage No Single...\n",
      "Computing NED...\n"
     ]
    },
    {
     "data": {
      "text/plain": [
       "{'boundary_P': 0.5131578947368421,\n",
       " 'boundary_R': 0.005875086619866831,\n",
       " 'boundary_F': 0.011594830287040826,\n",
       " 'grouping_P': 0.5307443365695792,\n",
       " 'grouping_R': 0.45054945054945056,\n",
       " 'grouping_F': 0.48687383012976415,\n",
       " 'token_P': 0.20609579100145137,\n",
       " 'token_R': 0.0023389501078881917,\n",
       " 'token_F': 0.004625407166123778,\n",
       " 'type_P': 0.4444444444444444,\n",
       " 'type_R': 0.02924451665312754,\n",
       " 'type_F': 0.054878048780487805,\n",
       " 'coverage': 0.005818596691386195,\n",
       " 'coverageNS': 0.006113361801525603,\n",
       " 'ned': 0.5161290322580645,\n",
       " 'n_clus': 521,\n",
       " 'n_node': 689}"
      ]
     },
     "execution_count": 25,
     "metadata": {},
     "output_type": "execute_result"
    }
   ],
   "source": [
    "scores = compute_scores(gold, disc)\n",
    "scores['n_clus'] = len(disc.clusters)\n",
    "scores['n_node'] = len(disc.intervals)\n",
    "scores"
   ]
  },
  {
   "cell_type": "code",
   "execution_count": null,
   "metadata": {},
   "outputs": [],
   "source": []
  },
  {
   "cell_type": "markdown",
   "metadata": {},
   "source": [
    "### write read config file"
   ]
  },
  {
   "cell_type": "code",
   "execution_count": 28,
   "metadata": {},
   "outputs": [
    {
     "data": {
      "text/plain": [
       "{'overlap_th': 5.0,\n",
       " 'excluded_units': ['SIL', '__ON__', '__OFF__', '__EMOTION__', 'SPN'],\n",
       " 'discoverable_th': 1}"
      ]
     },
     "execution_count": 28,
     "metadata": {},
     "output_type": "execute_result"
    }
   ],
   "source": [
    "conf = {'overlap_th': 5. ,\n",
    "'excluded_units' : ['SIL','__ON__','__OFF__','__EMOTION__','SPN'] ,\n",
    "'discoverable_th' : 1}\n",
    "conf"
   ]
  },
  {
   "cell_type": "code",
   "execution_count": 29,
   "metadata": {},
   "outputs": [],
   "source": [
    "import json\n",
    "config_pth = 'config.json'\n",
    "\n",
    "with open(config_pth, 'w') as f:\n",
    "    json.dump(conf, f)"
   ]
  },
  {
   "cell_type": "code",
   "execution_count": 32,
   "metadata": {},
   "outputs": [
    {
     "data": {
      "text/plain": [
       "5.0"
      ]
     },
     "execution_count": 32,
     "metadata": {},
     "output_type": "execute_result"
    }
   ],
   "source": [
    "with open(config_pth, 'r') as f:\n",
    "    conf = json.load(f)\n",
    "    \n",
    "conf['overlap_th']"
   ]
  }
 ],
 "metadata": {
  "kernelspec": {
   "display_name": "TDE",
   "language": "python",
   "name": "tde"
  },
  "language_info": {
   "codemirror_mode": {
    "name": "ipython",
    "version": 3
   },
   "file_extension": ".py",
   "mimetype": "text/x-python",
   "name": "python",
   "nbconvert_exporter": "python",
   "pygments_lexer": "ipython3",
   "version": "3.8.2"
  }
 },
 "nbformat": 4,
 "nbformat_minor": 2
}
