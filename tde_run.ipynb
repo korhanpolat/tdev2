{
 "cells": [
  {
   "cell_type": "code",
   "execution_count": 1,
   "metadata": {},
   "outputs": [],
   "source": [
    "import pkg_resources \n",
    "from tdev2.readers.gold_reader import *\n",
    "from tdev2.readers.disc_reader import *"
   ]
  },
  {
   "cell_type": "code",
   "execution_count": 2,
   "metadata": {},
   "outputs": [],
   "source": [
    "from tdev2.measures.ned import *\n",
    "from tdev2.measures.boundary import *\n",
    "from tdev2.measures.grouping import *\n",
    "from tdev2.measures.coverage import *\n",
    "from tdev2.measures.token_type import *"
   ]
  },
  {
   "cell_type": "code",
   "execution_count": 3,
   "metadata": {},
   "outputs": [],
   "source": [
    "def prf2dict(dct, measurename, obj):\n",
    "    # save precision-recall-f of tde objects to dictionary\n",
    "    dct[measurename + '_P'] = obj.precision\n",
    "    dct[measurename + '_R'] = obj.recall\n",
    "    dct[measurename + '_F'] = obj.fscore\n",
    "    \n",
    "    return dct\n",
    "\n",
    "\n",
    "def compute_scores(gold, disc, measures=[]):\n",
    "    scores = dict()\n",
    "    \n",
    "    # Launch evaluation of each metric\n",
    "    if len(measures) == 0 or \"boundary\" in measures:\n",
    "        print('Computing Boundary...')\n",
    "        boundary = Boundary(gold, disc)\n",
    "        boundary.compute_boundary()\n",
    "        scores = prf2dict(scores, 'boundary', boundary)\n",
    "        \n",
    "    if len(measures) == 0 or \"grouping\" in measures:\n",
    "        print('Computing Grouping...')\n",
    "        grouping = Grouping(disc)\n",
    "        grouping.compute_grouping()\n",
    "        scores = prf2dict(scores, 'grouping', grouping)    \n",
    "        \n",
    "    if len(measures) == 0 or \"token/type\" in measures:\n",
    "        print('Computing Token and Type...')\n",
    "        token_type = TokenType(gold, disc)\n",
    "        token_type.compute_token_type()\n",
    "        scores['token_P'],scores['token_R'],scores['token_F'] = token_type.precision[0], token_type.recall[0], token_type.fscore[0]\n",
    "        scores['type_P'],scores['type_R'],scores['type_F'] = token_type.precision[1], token_type.recall[1], token_type.fscore[1]        \n",
    "        \n",
    "    if len(measures) == 0 or \"coverage\" in measures:\n",
    "        print('Computing Coverage...')\n",
    "        coverage = Coverage(gold, disc)\n",
    "        coverage.compute_coverage()\n",
    "        scores['coverage'] = coverage.coverage\n",
    "        \n",
    "    if len(measures) == 0 or \"ned\" in measures:\n",
    "        print('Computing NED...')\n",
    "        ned = Ned(disc)\n",
    "        ned.compute_ned()\n",
    "        scores['ned'] = ned.ned\n",
    "    \n",
    "    return scores"
   ]
  },
  {
   "cell_type": "code",
   "execution_count": 4,
   "metadata": {},
   "outputs": [
    {
     "name": "stdout",
     "output_type": "stream",
     "text": [
      "/home/korhan/Desktop/zerospeech2017/track2/src/ZRTools/exp/Signer03_c3_right_PCA50_10_3_02_7_05_06_13_06_04.lsh64/results/master_graph.class\n"
     ]
    }
   ],
   "source": [
    "import sys\n",
    "sys.path.append('/home/korhan/Dropbox/tez_scripts/')\n",
    "from utils.tde_utils import zrexp2tde\n",
    "\n",
    "wrd_path = 'tdev2/share/phoenix.wrd'\n",
    "phn_path = 'tdev2/share/phoenix.phn'\n",
    "\n",
    "exp_path = '/home/korhan/Desktop/zerospeech2017/track2/src/ZRTools/exp/Signer03_c3_right_PCA50_10_3_02_7_05_06_13_06_04.lsh64/'\n",
    "\n",
    "\n",
    "disc_clsfile = zrexp2tde(exp_path)\n",
    "\n",
    "print(disc_clsfile)"
   ]
  },
  {
   "cell_type": "code",
   "execution_count": 6,
   "metadata": {},
   "outputs": [
    {
     "data": {
      "text/plain": [
       "{'boundary_P': 0.5781818181818181,\n",
       " 'boundary_R': 0.0023952276219457082,\n",
       " 'boundary_F': 0.0047706917503037944,\n",
       " 'grouping_P': 0.35897435897435903,\n",
       " 'grouping_R': 0.7466666666666665,\n",
       " 'grouping_F': 0.4848484848484848,\n",
       " 'token_P': 0.13043478260869565,\n",
       " 'token_R': 0.0003953155111923704,\n",
       " 'token_F': 0.0007882420559980294,\n",
       " 'type_P': 0.1782178217821782,\n",
       " 'type_R': 0.01462225832656377,\n",
       " 'type_F': 0.027027027027027025,\n",
       " 'coverage': 0.004449515116942385,\n",
       " 'ned': 0.5314495254529766,\n",
       " 'n_clus': 60,\n",
       " 'n_node': 184}"
      ]
     },
     "execution_count": 6,
     "metadata": {},
     "output_type": "execute_result"
    }
   ],
   "source": [
    "scores"
   ]
  },
  {
   "cell_type": "code",
   "execution_count": 5,
   "metadata": {},
   "outputs": [
    {
     "name": "stdout",
     "output_type": "stream",
     "text": [
      "Discovered Class file read\n",
      "\n",
      "184 unique intervals found\n",
      "Computing Boundary...\n",
      "Computing Grouping...\n",
      "Computing Token and Type...\n",
      "Computing Coverage...\n",
      "Computing NED...\n"
     ]
    },
    {
     "data": {
      "text/plain": [
       "{'boundary_P': 0.5781818181818181,\n",
       " 'boundary_R': 0.0023952276219457082,\n",
       " 'boundary_F': 0.0047706917503037944,\n",
       " 'grouping_P': 0.35897435897435903,\n",
       " 'grouping_R': 0.7466666666666665,\n",
       " 'grouping_F': 0.4848484848484848,\n",
       " 'token_P': 0.13043478260869565,\n",
       " 'token_R': 0.0003953155111923704,\n",
       " 'token_F': 0.0007882420559980294,\n",
       " 'type_P': 0.1782178217821782,\n",
       " 'type_R': 0.01462225832656377,\n",
       " 'type_F': 0.027027027027027025,\n",
       " 'coverage': 0.004449515116942385,\n",
       " 'ned': 0.5314495254529766,\n",
       " 'n_clus': 60,\n",
       " 'n_node': 184}"
      ]
     },
     "execution_count": 5,
     "metadata": {},
     "output_type": "execute_result"
    }
   ],
   "source": [
    "gold = Gold(wrd_path=wrd_path, phn_path=phn_path) \n",
    "disc = Disc(disc_clsfile, gold) \n",
    "\n",
    "scores = compute_scores(gold, disc)\n",
    "scores['n_clus'] = len(disc.clusters)\n",
    "scores['n_node'] = len(disc.intervals)\n",
    "scores"
   ]
  },
  {
   "cell_type": "code",
   "execution_count": null,
   "metadata": {},
   "outputs": [],
   "source": []
  }
 ],
 "metadata": {
  "kernelspec": {
   "display_name": "TDE",
   "language": "python",
   "name": "tde"
  },
  "language_info": {
   "codemirror_mode": {
    "name": "ipython",
    "version": 3
   },
   "file_extension": ".py",
   "mimetype": "text/x-python",
   "name": "python",
   "nbconvert_exporter": "python",
   "pygments_lexer": "ipython3",
   "version": "3.8.2"
  }
 },
 "nbformat": 4,
 "nbformat_minor": 2
}
